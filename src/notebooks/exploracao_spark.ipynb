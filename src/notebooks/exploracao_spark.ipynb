{
 "cells": [
  {
   "cell_type": "code",
   "execution_count": 1,
   "id": "dc6133bd",
   "metadata": {},
   "outputs": [],
   "source": [
    "from pyspark.sql import SparkSession\n",
    "import pandas "
   ]
  },
  {
   "cell_type": "code",
   "execution_count": 2,
   "id": "74e4567e",
   "metadata": {},
   "outputs": [
    {
     "name": "stderr",
     "output_type": "stream",
     "text": [
      "your 131072x1 screen size is bogus. expect trouble\n",
      "25/08/15 13:59:10 WARN Utils: Your hostname, NT005818 resolves to a loopback address: 127.0.1.1; using 10.255.255.254 instead (on interface lo)\n",
      "25/08/15 13:59:10 WARN Utils: Set SPARK_LOCAL_IP if you need to bind to another address\n",
      "Setting default log level to \"WARN\".\n",
      "To adjust logging level use sc.setLogLevel(newLevel). For SparkR, use setLogLevel(newLevel).\n",
      "25/08/15 13:59:11 WARN NativeCodeLoader: Unable to load native-hadoop library for your platform... using builtin-java classes where applicable\n"
     ]
    }
   ],
   "source": [
    "spark = SparkSession\\\n",
    "    .builder\\\n",
    "    .appName(\"twitter_transformation\")\\\n",
    "    .getOrCreate()"
   ]
  },
  {
   "cell_type": "code",
   "execution_count": 4,
   "id": "0f09b6b8",
   "metadata": {},
   "outputs": [
    {
     "name": "stderr",
     "output_type": "stream",
     "text": [
      "                                                                                \r"
     ]
    }
   ],
   "source": [
    "df = spark.read.json(\"/home/dev-exata/Documents/projects/alura_airflow/datalake/bronze/twitter_datascience/extract_date=2025-07-12/datascience_20250712.json\")"
   ]
  },
  {
   "cell_type": "code",
   "execution_count": 5,
   "id": "708c56c2",
   "metadata": {},
   "outputs": [
    {
     "data": {
      "text/html": [
       "<div>\n",
       "<style scoped>\n",
       "    .dataframe tbody tr th:only-of-type {\n",
       "        vertical-align: middle;\n",
       "    }\n",
       "\n",
       "    .dataframe tbody tr th {\n",
       "        vertical-align: top;\n",
       "    }\n",
       "\n",
       "    .dataframe thead th {\n",
       "        text-align: right;\n",
       "    }\n",
       "</style>\n",
       "<table border=\"1\" class=\"dataframe\">\n",
       "  <thead>\n",
       "    <tr style=\"text-align: right;\">\n",
       "      <th></th>\n",
       "      <th>data</th>\n",
       "      <th>includes</th>\n",
       "      <th>meta</th>\n",
       "    </tr>\n",
       "  </thead>\n",
       "  <tbody>\n",
       "    <tr>\n",
       "      <th>0</th>\n",
       "      <td>[(96, 51, 2025-07-12T07:25:37.679104+0000, [67...</td>\n",
       "      <td>([(2025-07-12T16:23:50.714842+0000, 58, User 1...</td>\n",
       "      <td>(1234567890abcdef,)</td>\n",
       "    </tr>\n",
       "    <tr>\n",
       "      <th>1</th>\n",
       "      <td>[(93, 11, 2025-07-12T00:53:49.895385+0000, [81...</td>\n",
       "      <td>([(2025-07-12T14:52:58.784183+0000, 72, User 1...</td>\n",
       "      <td>(1234567890abcdef,)</td>\n",
       "    </tr>\n",
       "    <tr>\n",
       "      <th>2</th>\n",
       "      <td>[(57, 52, 2025-07-12T17:40:54.851126+0000, [62...</td>\n",
       "      <td>([(2025-07-12T15:07:56.593081+0000, 17, User 1...</td>\n",
       "      <td>None</td>\n",
       "    </tr>\n",
       "  </tbody>\n",
       "</table>\n",
       "</div>"
      ],
      "text/plain": [
       "                                                data  \\\n",
       "0  [(96, 51, 2025-07-12T07:25:37.679104+0000, [67...   \n",
       "1  [(93, 11, 2025-07-12T00:53:49.895385+0000, [81...   \n",
       "2  [(57, 52, 2025-07-12T17:40:54.851126+0000, [62...   \n",
       "\n",
       "                                            includes                 meta  \n",
       "0  ([(2025-07-12T16:23:50.714842+0000, 58, User 1...  (1234567890abcdef,)  \n",
       "1  ([(2025-07-12T14:52:58.784183+0000, 72, User 1...  (1234567890abcdef,)  \n",
       "2  ([(2025-07-12T15:07:56.593081+0000, 17, User 1...                 None  "
      ]
     },
     "execution_count": 5,
     "metadata": {},
     "output_type": "execute_result"
    }
   ],
   "source": [
    "df.toPandas()"
   ]
  },
  {
   "cell_type": "code",
   "execution_count": 7,
   "id": "b1e72b69",
   "metadata": {},
   "outputs": [
    {
     "name": "stdout",
     "output_type": "stream",
     "text": [
      "root\n",
      " |-- data: array (nullable = true)\n",
      " |    |-- element: struct (containsNull = true)\n",
      " |    |    |-- author_id: string (nullable = true)\n",
      " |    |    |-- conversation_id: string (nullable = true)\n",
      " |    |    |-- created_at: string (nullable = true)\n",
      " |    |    |-- edit_history_tweet_ids: array (nullable = true)\n",
      " |    |    |    |-- element: long (containsNull = true)\n",
      " |    |    |-- id: string (nullable = true)\n",
      " |    |    |-- in_reply_to_user_id: string (nullable = true)\n",
      " |    |    |-- lang: string (nullable = true)\n",
      " |    |    |-- public_metrics: struct (nullable = true)\n",
      " |    |    |    |-- like_count: long (nullable = true)\n",
      " |    |    |    |-- quote_count: long (nullable = true)\n",
      " |    |    |    |-- reply_count: long (nullable = true)\n",
      " |    |    |    |-- retweet_count: long (nullable = true)\n",
      " |    |    |-- text: string (nullable = true)\n",
      " |-- includes: struct (nullable = true)\n",
      " |    |-- users: array (nullable = true)\n",
      " |    |    |-- element: struct (containsNull = true)\n",
      " |    |    |    |-- created_at: string (nullable = true)\n",
      " |    |    |    |-- id: string (nullable = true)\n",
      " |    |    |    |-- name: string (nullable = true)\n",
      " |    |    |    |-- username: string (nullable = true)\n",
      " |-- meta: struct (nullable = true)\n",
      " |    |-- next_token: string (nullable = true)\n",
      " |-- extract_date: date (nullable = true)\n",
      "\n"
     ]
    }
   ],
   "source": [
    "df.printSchema()"
   ]
  },
  {
   "cell_type": "code",
   "execution_count": 7,
   "id": "10516ab4",
   "metadata": {},
   "outputs": [],
   "source": [
    "from pyspark.sql import functions as f"
   ]
  },
  {
   "cell_type": "code",
   "execution_count": 8,
   "id": "679fca15",
   "metadata": {},
   "outputs": [
    {
     "name": "stdout",
     "output_type": "stream",
     "text": [
      "root\n",
      " |-- col: struct (nullable = true)\n",
      " |    |-- author_id: string (nullable = true)\n",
      " |    |-- conversation_id: string (nullable = true)\n",
      " |    |-- created_at: string (nullable = true)\n",
      " |    |-- edit_history_tweet_ids: array (nullable = true)\n",
      " |    |    |-- element: long (containsNull = true)\n",
      " |    |-- id: string (nullable = true)\n",
      " |    |-- in_reply_to_user_id: string (nullable = true)\n",
      " |    |-- lang: string (nullable = true)\n",
      " |    |-- public_metrics: struct (nullable = true)\n",
      " |    |    |-- like_count: long (nullable = true)\n",
      " |    |    |-- quote_count: long (nullable = true)\n",
      " |    |    |-- reply_count: long (nullable = true)\n",
      " |    |    |-- retweet_count: long (nullable = true)\n",
      " |    |-- text: string (nullable = true)\n",
      "\n"
     ]
    }
   ],
   "source": [
    "df.select(f.explode('data')).printSchema()"
   ]
  },
  {
   "cell_type": "code",
   "execution_count": 9,
   "id": "59832307",
   "metadata": {},
   "outputs": [
    {
     "data": {
      "text/html": [
       "<div>\n",
       "<style scoped>\n",
       "    .dataframe tbody tr th:only-of-type {\n",
       "        vertical-align: middle;\n",
       "    }\n",
       "\n",
       "    .dataframe tbody tr th {\n",
       "        vertical-align: top;\n",
       "    }\n",
       "\n",
       "    .dataframe thead th {\n",
       "        text-align: right;\n",
       "    }\n",
       "</style>\n",
       "<table border=\"1\" class=\"dataframe\">\n",
       "  <thead>\n",
       "    <tr style=\"text-align: right;\">\n",
       "      <th></th>\n",
       "      <th>col</th>\n",
       "    </tr>\n",
       "  </thead>\n",
       "  <tbody>\n",
       "    <tr>\n",
       "      <th>0</th>\n",
       "      <td>(96, 51, 2025-07-12T07:25:37.679104+0000, [67]...</td>\n",
       "    </tr>\n",
       "    <tr>\n",
       "      <th>1</th>\n",
       "      <td>(80, 45, 2025-07-12T15:25:44.348288+0000, [19]...</td>\n",
       "    </tr>\n",
       "    <tr>\n",
       "      <th>2</th>\n",
       "      <td>(0, 29, 2025-07-12T19:04:36.192205+0000, [53],...</td>\n",
       "    </tr>\n",
       "    <tr>\n",
       "      <th>3</th>\n",
       "      <td>(20, 59, 2025-07-12T08:53:42.409498+0000, [52]...</td>\n",
       "    </tr>\n",
       "    <tr>\n",
       "      <th>4</th>\n",
       "      <td>(48, 43, 2025-07-12T19:15:59.216788+0000, [66]...</td>\n",
       "    </tr>\n",
       "    <tr>\n",
       "      <th>5</th>\n",
       "      <td>(94, 52, 2025-07-12T19:07:31.768073+0000, [55]...</td>\n",
       "    </tr>\n",
       "    <tr>\n",
       "      <th>6</th>\n",
       "      <td>(53, 22, 2025-07-12T12:07:26.348808+0000, [91]...</td>\n",
       "    </tr>\n",
       "    <tr>\n",
       "      <th>7</th>\n",
       "      <td>(2, 66, 2025-07-12T13:11:33.382616+0000, [85],...</td>\n",
       "    </tr>\n",
       "    <tr>\n",
       "      <th>8</th>\n",
       "      <td>(59, 41, 2025-07-12T07:10:32.809167+0000, [100...</td>\n",
       "    </tr>\n",
       "    <tr>\n",
       "      <th>9</th>\n",
       "      <td>(41, 55, 2025-07-12T12:19:34.972157+0000, [78]...</td>\n",
       "    </tr>\n",
       "    <tr>\n",
       "      <th>10</th>\n",
       "      <td>(93, 11, 2025-07-12T00:53:49.895385+0000, [81]...</td>\n",
       "    </tr>\n",
       "    <tr>\n",
       "      <th>11</th>\n",
       "      <td>(2, 89, 2025-07-12T14:13:10.747603+0000, [54],...</td>\n",
       "    </tr>\n",
       "    <tr>\n",
       "      <th>12</th>\n",
       "      <td>(51, 56, 2025-07-12T04:03:01.514175+0000, [20]...</td>\n",
       "    </tr>\n",
       "    <tr>\n",
       "      <th>13</th>\n",
       "      <td>(82, 74, 2025-07-12T06:42:36.523159+0000, [11]...</td>\n",
       "    </tr>\n",
       "    <tr>\n",
       "      <th>14</th>\n",
       "      <td>(48, 42, 2025-07-12T22:39:29.890325+0000, [64]...</td>\n",
       "    </tr>\n",
       "    <tr>\n",
       "      <th>15</th>\n",
       "      <td>(22, 100, 2025-07-12T15:34:34.715216+0000, [38...</td>\n",
       "    </tr>\n",
       "    <tr>\n",
       "      <th>16</th>\n",
       "      <td>(45, 69, 2025-07-12T15:05:53.028027+0000, [58]...</td>\n",
       "    </tr>\n",
       "    <tr>\n",
       "      <th>17</th>\n",
       "      <td>(11, 85, 2025-07-12T12:49:01.035030+0000, [3],...</td>\n",
       "    </tr>\n",
       "    <tr>\n",
       "      <th>18</th>\n",
       "      <td>(24, 14, 2025-07-12T00:00:00.731244+0000, [65]...</td>\n",
       "    </tr>\n",
       "    <tr>\n",
       "      <th>19</th>\n",
       "      <td>(36, 96, 2025-07-12T19:47:19.776850+0000, [25]...</td>\n",
       "    </tr>\n",
       "    <tr>\n",
       "      <th>20</th>\n",
       "      <td>(57, 52, 2025-07-12T17:40:54.851126+0000, [62]...</td>\n",
       "    </tr>\n",
       "    <tr>\n",
       "      <th>21</th>\n",
       "      <td>(81, 88, 2025-07-12T04:25:45.324777+0000, [85]...</td>\n",
       "    </tr>\n",
       "    <tr>\n",
       "      <th>22</th>\n",
       "      <td>(66, 96, 2025-07-12T03:00:48.043915+0000, [17]...</td>\n",
       "    </tr>\n",
       "    <tr>\n",
       "      <th>23</th>\n",
       "      <td>(65, 70, 2025-07-12T08:16:03.121617+0000, [1],...</td>\n",
       "    </tr>\n",
       "    <tr>\n",
       "      <th>24</th>\n",
       "      <td>(9, 84, 2025-07-12T16:15:37.907962+0000, [83],...</td>\n",
       "    </tr>\n",
       "    <tr>\n",
       "      <th>25</th>\n",
       "      <td>(34, 46, 2025-07-12T12:53:23.725377+0000, [88]...</td>\n",
       "    </tr>\n",
       "    <tr>\n",
       "      <th>26</th>\n",
       "      <td>(77, 83, 2025-07-12T07:13:14.003273+0000, [39]...</td>\n",
       "    </tr>\n",
       "    <tr>\n",
       "      <th>27</th>\n",
       "      <td>(27, 56, 2025-07-12T16:18:01.243232+0000, [15]...</td>\n",
       "    </tr>\n",
       "    <tr>\n",
       "      <th>28</th>\n",
       "      <td>(38, 35, 2025-07-12T08:10:32.952598+0000, [13]...</td>\n",
       "    </tr>\n",
       "    <tr>\n",
       "      <th>29</th>\n",
       "      <td>(57, 78, 2025-07-12T03:15:27.097024+0000, [37]...</td>\n",
       "    </tr>\n",
       "  </tbody>\n",
       "</table>\n",
       "</div>"
      ],
      "text/plain": [
       "                                                  col\n",
       "0   (96, 51, 2025-07-12T07:25:37.679104+0000, [67]...\n",
       "1   (80, 45, 2025-07-12T15:25:44.348288+0000, [19]...\n",
       "2   (0, 29, 2025-07-12T19:04:36.192205+0000, [53],...\n",
       "3   (20, 59, 2025-07-12T08:53:42.409498+0000, [52]...\n",
       "4   (48, 43, 2025-07-12T19:15:59.216788+0000, [66]...\n",
       "5   (94, 52, 2025-07-12T19:07:31.768073+0000, [55]...\n",
       "6   (53, 22, 2025-07-12T12:07:26.348808+0000, [91]...\n",
       "7   (2, 66, 2025-07-12T13:11:33.382616+0000, [85],...\n",
       "8   (59, 41, 2025-07-12T07:10:32.809167+0000, [100...\n",
       "9   (41, 55, 2025-07-12T12:19:34.972157+0000, [78]...\n",
       "10  (93, 11, 2025-07-12T00:53:49.895385+0000, [81]...\n",
       "11  (2, 89, 2025-07-12T14:13:10.747603+0000, [54],...\n",
       "12  (51, 56, 2025-07-12T04:03:01.514175+0000, [20]...\n",
       "13  (82, 74, 2025-07-12T06:42:36.523159+0000, [11]...\n",
       "14  (48, 42, 2025-07-12T22:39:29.890325+0000, [64]...\n",
       "15  (22, 100, 2025-07-12T15:34:34.715216+0000, [38...\n",
       "16  (45, 69, 2025-07-12T15:05:53.028027+0000, [58]...\n",
       "17  (11, 85, 2025-07-12T12:49:01.035030+0000, [3],...\n",
       "18  (24, 14, 2025-07-12T00:00:00.731244+0000, [65]...\n",
       "19  (36, 96, 2025-07-12T19:47:19.776850+0000, [25]...\n",
       "20  (57, 52, 2025-07-12T17:40:54.851126+0000, [62]...\n",
       "21  (81, 88, 2025-07-12T04:25:45.324777+0000, [85]...\n",
       "22  (66, 96, 2025-07-12T03:00:48.043915+0000, [17]...\n",
       "23  (65, 70, 2025-07-12T08:16:03.121617+0000, [1],...\n",
       "24  (9, 84, 2025-07-12T16:15:37.907962+0000, [83],...\n",
       "25  (34, 46, 2025-07-12T12:53:23.725377+0000, [88]...\n",
       "26  (77, 83, 2025-07-12T07:13:14.003273+0000, [39]...\n",
       "27  (27, 56, 2025-07-12T16:18:01.243232+0000, [15]...\n",
       "28  (38, 35, 2025-07-12T08:10:32.952598+0000, [13]...\n",
       "29  (57, 78, 2025-07-12T03:15:27.097024+0000, [37]..."
      ]
     },
     "execution_count": 9,
     "metadata": {},
     "output_type": "execute_result"
    }
   ],
   "source": [
    "df.select(f.explode('data')).toPandas()"
   ]
  },
  {
   "cell_type": "code",
   "execution_count": 10,
   "id": "04c4fc8e",
   "metadata": {},
   "outputs": [
    {
     "name": "stdout",
     "output_type": "stream",
     "text": [
      "root\n",
      " |-- author_id: string (nullable = true)\n",
      " |-- conversation_id: string (nullable = true)\n",
      " |-- created_at: string (nullable = true)\n",
      " |-- id: string (nullable = true)\n",
      " |-- like_count: long (nullable = true)\n",
      " |-- quote_count: long (nullable = true)\n",
      " |-- reply_count: long (nullable = true)\n",
      " |-- retweet_count: long (nullable = true)\n",
      " |-- text: string (nullable = true)\n",
      "\n"
     ]
    }
   ],
   "source": [
    "df.select(f.explode(\"data\").alias(\"tweets\"))\\\n",
    ".select(\"tweets.author_id\", \"tweets.conversation_id\",\n",
    "        \"tweets.created_at\", \"tweets.id\",\n",
    "        \"tweets.public_metrics.*\", \"tweets.text\").printSchema()"
   ]
  },
  {
   "cell_type": "code",
   "execution_count": 12,
   "id": "8b2b6289",
   "metadata": {},
   "outputs": [],
   "source": [
    "tweet_df = df.select(f.explode(\"data\").alias(\"tweets\"))\\\n",
    ".select(\"tweets.author_id\", \"tweets.conversation_id\",\n",
    "        \"tweets.created_at\", \"tweets.id\",\n",
    "        \"tweets.public_metrics.*\", \"tweets.text\")"
   ]
  },
  {
   "cell_type": "code",
   "execution_count": null,
   "id": "7452bb5d",
   "metadata": {},
   "outputs": [
    {
     "name": "stdout",
     "output_type": "stream",
     "text": [
      "+---------+---------------+--------------------+---+----------+-----------+-----------+-------------+--------------------+\n",
      "|author_id|conversation_id|          created_at| id|like_count|quote_count|reply_count|retweet_count|                text|\n",
      "+---------+---------------+--------------------+---+----------+-----------+-----------+-------------+--------------------+\n",
      "|       91|             58|2025-07-12T04:22:...|  4|        22|         21|        100|            8|Tweet fictício cr...|\n",
      "|       45|             30|2025-07-12T07:53:...|  0|        43|         50|          8|           90|Um terceiro tweet...|\n",
      "|       35|             32|2025-07-12T17:01:...| 48|        61|         75|         29|           19|Um terceiro tweet...|\n",
      "|       91|             10|2025-07-12T01:14:...| 69|        50|         55|         69|           44|Outro tweet fictí...|\n",
      "|       52|             44|2025-07-12T13:34:...| 75|         8|         26|         23|           44|Outro tweet fictí...|\n",
      "+---------+---------------+--------------------+---+----------+-----------+-----------+-------------+--------------------+\n",
      "only showing top 5 rows\n",
      "\n"
     ]
    }
   ],
   "source": [
    "tweet_df.toPandas(5)"
   ]
  },
  {
   "cell_type": "code",
   "execution_count": 14,
   "id": "47b7d1ae",
   "metadata": {},
   "outputs": [
    {
     "name": "stdout",
     "output_type": "stream",
     "text": [
      "root\n",
      " |-- data: array (nullable = true)\n",
      " |    |-- element: struct (containsNull = true)\n",
      " |    |    |-- author_id: string (nullable = true)\n",
      " |    |    |-- conversation_id: string (nullable = true)\n",
      " |    |    |-- created_at: string (nullable = true)\n",
      " |    |    |-- edit_history_tweet_ids: array (nullable = true)\n",
      " |    |    |    |-- element: long (containsNull = true)\n",
      " |    |    |-- id: string (nullable = true)\n",
      " |    |    |-- in_reply_to_user_id: string (nullable = true)\n",
      " |    |    |-- lang: string (nullable = true)\n",
      " |    |    |-- public_metrics: struct (nullable = true)\n",
      " |    |    |    |-- like_count: long (nullable = true)\n",
      " |    |    |    |-- quote_count: long (nullable = true)\n",
      " |    |    |    |-- reply_count: long (nullable = true)\n",
      " |    |    |    |-- retweet_count: long (nullable = true)\n",
      " |    |    |-- text: string (nullable = true)\n",
      " |-- includes: struct (nullable = true)\n",
      " |    |-- users: array (nullable = true)\n",
      " |    |    |-- element: struct (containsNull = true)\n",
      " |    |    |    |-- created_at: string (nullable = true)\n",
      " |    |    |    |-- id: string (nullable = true)\n",
      " |    |    |    |-- name: string (nullable = true)\n",
      " |    |    |    |-- username: string (nullable = true)\n",
      " |-- meta: struct (nullable = true)\n",
      " |    |-- next_token: string (nullable = true)\n",
      " |-- extract_date: date (nullable = true)\n",
      "\n"
     ]
    }
   ],
   "source": [
    "df.printSchema()"
   ]
  },
  {
   "cell_type": "code",
   "execution_count": 15,
   "id": "dec2b224",
   "metadata": {},
   "outputs": [
    {
     "name": "stdout",
     "output_type": "stream",
     "text": [
      "root\n",
      " |-- col: struct (nullable = true)\n",
      " |    |-- created_at: string (nullable = true)\n",
      " |    |-- id: string (nullable = true)\n",
      " |    |-- name: string (nullable = true)\n",
      " |    |-- username: string (nullable = true)\n",
      "\n"
     ]
    }
   ],
   "source": [
    "df.select(f.explode('includes.users')).printSchema()"
   ]
  },
  {
   "cell_type": "code",
   "execution_count": 16,
   "id": "9347c284",
   "metadata": {},
   "outputs": [
    {
     "name": "stdout",
     "output_type": "stream",
     "text": [
      "root\n",
      " |-- created_at: string (nullable = true)\n",
      " |-- id: string (nullable = true)\n",
      " |-- name: string (nullable = true)\n",
      " |-- username: string (nullable = true)\n",
      "\n"
     ]
    }
   ],
   "source": [
    "df.select(f.explode('includes.users').alias('users')).select('users.*').printSchema()"
   ]
  },
  {
   "cell_type": "code",
   "execution_count": 17,
   "id": "83f748de",
   "metadata": {},
   "outputs": [],
   "source": [
    "user_df = df.select(f.explode('includes.users').alias('users')).select('users.*')"
   ]
  },
  {
   "cell_type": "code",
   "execution_count": null,
   "id": "338f5723",
   "metadata": {},
   "outputs": [
    {
     "name": "stdout",
     "output_type": "stream",
     "text": [
      "+--------------------+---+------+--------+\n",
      "|          created_at| id|  name|username|\n",
      "+--------------------+---+------+--------+\n",
      "|2025-07-12T17:36:...| 58|User 1|   user1|\n",
      "|2025-07-12T06:55:...| 42|User 2|   user2|\n",
      "|2025-07-12T10:08:...| 36|User 3|   user3|\n",
      "|2025-07-12T02:10:...|  8|User 4|   user4|\n",
      "|2025-07-12T02:08:...| 92|User 5|   user5|\n",
      "+--------------------+---+------+--------+\n",
      "only showing top 5 rows\n",
      "\n"
     ]
    }
   ],
   "source": [
    "user_df.toPandas(5)"
   ]
  },
  {
   "cell_type": "code",
   "execution_count": 19,
   "id": "6e64386e",
   "metadata": {},
   "outputs": [],
   "source": [
    "tweet_df.coalesce(1).write.mode(\"overwrite\").json('output/tweet')"
   ]
  },
  {
   "cell_type": "code",
   "execution_count": 20,
   "id": "5e8ec07b",
   "metadata": {},
   "outputs": [],
   "source": [
    "user_df.coalesce(1).write.mode(\"overwrite\").json('output/user')"
   ]
  }
 ],
 "metadata": {
  "kernelspec": {
   "display_name": "venv",
   "language": "python",
   "name": "python3"
  },
  "language_info": {
   "codemirror_mode": {
    "name": "ipython",
    "version": 3
   },
   "file_extension": ".py",
   "mimetype": "text/x-python",
   "name": "python",
   "nbconvert_exporter": "python",
   "pygments_lexer": "ipython3",
   "version": "3.9.23"
  }
 },
 "nbformat": 4,
 "nbformat_minor": 5
}
